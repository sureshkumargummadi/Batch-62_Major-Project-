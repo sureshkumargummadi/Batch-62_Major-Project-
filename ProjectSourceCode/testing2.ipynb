{
 "cells": [
  {
   "cell_type": "code",
   "execution_count": 9,
   "metadata": {},
   "outputs": [],
   "source": [
    "from PIL import Image\n",
    "import numpy as np\n",
    "import torch\n",
    "\n",
    "model = torch.load(\"C:/Users/pytho/Downloads/brain_tumour_entire_model.pth\")\n",
    "model.eval() \n",
    "\n",
    "def load_and_resize_image(image_path, target_size=(256, 256)):\n",
    "    # Open the image file\n",
    "    image = Image.open(image_path)\n",
    "    \n",
    "    # Resize the image to the target size\n",
    "    image = image.resize(target_size)\n",
    "    \n",
    "    # Convert the image to a numpy array and normalize it\n",
    "    image_array = np.array(image) / 255.0\n",
    "    \n",
    "    # Ensure image has 3 channels (RGB)\n",
    "    if len(image_array.shape) == 2:  # If grayscale, convert to RGB\n",
    "        image_array = np.stack((image_array,) * 3, axis=-1)\n",
    "    \n",
    "    # Add batch dimension to match the model input shape\n",
    "    image_array = np.expand_dims(image_array.transpose(2, 0, 1), axis=0)  # Transpose to match (1, 3, 256, 256)\n",
    "    \n",
    "    return image_array\n",
    "\n",
    "# Example usage\n",
    "image_path = \"C:/Users/pytho/Downloads/TCGA_CS_4941_19960909_14.tif\"\n",
    "resized_image = load_and_resize_image(image_path)"
   ]
  },
  {
   "cell_type": "code",
   "execution_count": 10,
   "metadata": {},
   "outputs": [
    {
     "data": {
      "text/plain": [
       "(1, 3, 256, 256)"
      ]
     },
     "execution_count": 10,
     "metadata": {},
     "output_type": "execute_result"
    }
   ],
   "source": [
    "resized_image.shape"
   ]
  },
  {
   "cell_type": "code",
   "execution_count": 11,
   "metadata": {},
   "outputs": [],
   "source": [
    "x_tensor = torch.from_numpy(resized_image)\n",
    "x= x_tensor.to('cuda')\n",
    "x = x.float()\n",
    "prediction = model.predict(x)\n",
    "prediction = torch.where(prediction > 0.5, 1, 0)\n",
    "prediction1 = prediction.to('cpu')[0][0]"
   ]
  },
  {
   "cell_type": "code",
   "execution_count": 12,
   "metadata": {},
   "outputs": [
    {
     "data": {
      "image/png": "[encoded data removed]",
      "text/plain": [
       "<Figure size 640x480 with 1 Axes>"
      ]
     },
     "metadata": {},
     "output_type": "display_data"
    }
   ],
   "source": [
    "import matplotlib.pyplot as plt\n",
    "\n",
    "# Assuming mask_tensor is the tensor you provided\n",
    "mask_array = prediction1.cpu().numpy()  # Convert tensor to NumPy array\n",
    "\n",
    "# Display the image using Matplotlib\n",
    "plt.imshow(mask_array, cmap='gray')  # Use 'gray' colormap for binary images\n",
    "plt.axis('off')  # Turn off axis\n",
    "plt.show()"
   ]
  }
 ],
 "metadata": {
  "kernelspec": {
   "display_name": "myvenv",
   "language": "python",
   "name": "python3"
  },
  "language_info": {
   "codemirror_mode": {
    "name": "ipython",
    "version": 3
   },
   "file_extension": ".py",
   "mimetype": "text/x-python",
   "name": "python",
   "nbconvert_exporter": "python",
   "pygments_lexer": "ipython3",
   "version": "3.9.10"
  }
 },
 "nbformat": 4,
 "nbformat_minor": 2
}

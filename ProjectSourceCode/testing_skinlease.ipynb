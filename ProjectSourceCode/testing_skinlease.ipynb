{
 "cells": [
  {
   "cell_type": "code",
   "execution_count": 1,
   "metadata": {},
   "outputs": [],
   "source": [
    "from PIL import Image\n",
    "import numpy as np\n",
    "import torch\n",
    "\n",
    "DEVICE =  torch.device(\"cuda\" if torch.cuda.is_available() else \"cpu\")\n",
    "from Unet_model import UNet\n",
    "\n",
    "model = UNet(n_channels=3, n_classes=1).to(DEVICE)"
   ]
  },
  {
   "cell_type": "code",
   "execution_count": 2,
   "metadata": {},
   "outputs": [
    {
     "data": {
      "text/plain": [
       "UNet(\n",
       "  (conv1): Conv2d(3, 64, kernel_size=(3, 3), stride=(1, 1), padding=(1, 1))\n",
       "  (conv2): Conv2d(64, 128, kernel_size=(3, 3), stride=(1, 1), padding=(1, 1))\n",
       "  (conv3): Conv2d(128, 256, kernel_size=(3, 3), stride=(1, 1), padding=(1, 1))\n",
       "  (conv4): Conv2d(256, 512, kernel_size=(3, 3), stride=(1, 1), padding=(1, 1))\n",
       "  (conv5): Conv2d(512, 1024, kernel_size=(3, 3), stride=(1, 1), padding=(1, 1))\n",
       "  (pool): MaxPool2d(kernel_size=2, stride=2, padding=0, dilation=1, ceil_mode=False)\n",
       "  (upconv1): ConvTranspose2d(1024, 512, kernel_size=(2, 2), stride=(2, 2))\n",
       "  (conv6): Conv2d(1024, 512, kernel_size=(3, 3), stride=(1, 1), padding=(1, 1))\n",
       "  (upconv2): ConvTranspose2d(512, 256, kernel_size=(2, 2), stride=(2, 2))\n",
       "  (conv7): Conv2d(512, 256, kernel_size=(3, 3), stride=(1, 1), padding=(1, 1))\n",
       "  (upconv3): ConvTranspose2d(256, 128, kernel_size=(2, 2), stride=(2, 2))\n",
       "  (conv8): Conv2d(256, 128, kernel_size=(3, 3), stride=(1, 1), padding=(1, 1))\n",
       "  (upconv4): ConvTranspose2d(128, 64, kernel_size=(2, 2), stride=(2, 2))\n",
       "  (conv9): Conv2d(128, 64, kernel_size=(3, 3), stride=(1, 1), padding=(1, 1))\n",
       "  (conv10): Conv2d(64, 1, kernel_size=(1, 1), stride=(1, 1))\n",
       "  (criterion): BCEWithLogitsLoss()\n",
       ")"
      ]
     },
     "execution_count": 2,
     "metadata": {},
     "output_type": "execute_result"
    }
   ],
   "source": [
    "import torch\n",
    "model.load_state_dict(torch.load('C:/Users/pytho/Downloads/checkpointN20_.pth (1).tar')['state_dict'])\n",
    "#model = torch.load(\"D:/BrainTumor_SkinLesions_project/skin_lease_entire_model.pth\")\n",
    "model.eval()"
   ]
  },
  {
   "cell_type": "code",
   "execution_count": 3,
   "metadata": {},
   "outputs": [
    {
     "data": {
      "text/plain": [
       "tensor([[-1.5184, -2.0619, -2.3188,  ..., -2.3643, -2.3107, -1.7137],\n",
       "        [-2.0982, -2.7822, -3.0671,  ..., -3.1353, -3.0766, -2.5312],\n",
       "        [-2.3237, -2.9636, -3.1586,  ..., -3.1892, -3.2301, -2.7357],\n",
       "        ...,\n",
       "        [-2.3462, -3.0069, -3.1731,  ..., -3.1291, -3.1481, -2.7601],\n",
       "        [-2.2132, -2.9213, -3.1107,  ..., -3.0868, -3.0008, -2.5746],\n",
       "        [-1.6709, -2.2877, -2.5563,  ..., -2.5044, -2.3717, -1.8607]],\n",
       "       grad_fn=<ToCopyBackward0>)"
      ]
     },
     "execution_count": 3,
     "metadata": {},
     "output_type": "execute_result"
    }
   ],
   "source": [
    "def load_and_resize_image(image_path, target_size=(256, 256)):\n",
    "    image = Image.open(image_path)\n",
    "    image = image.resize(target_size)\n",
    "    image_array = np.array(image) / 255.0\n",
    "    if len(image_array.shape) == 2: \n",
    "        image_array = np.stack((image_array,) * 3, axis=-1)\n",
    "    image_array = np.expand_dims(image_array.transpose(2, 0, 1), axis=0) \n",
    "    \n",
    "    return image_array\n",
    "image_path = \"C:/Users/pytho/Downloads/ISIC_0000023.jpg\"\n",
    "image = Image.open(image_path)\n",
    "resized_image = load_and_resize_image(image_path)\n",
    "img_tensor = torch.Tensor(resized_image).to(DEVICE)\n",
    "generated_mask = model(img_tensor).squeeze().cpu()\n",
    "generated_mask"
   ]
  },
  {
   "cell_type": "code",
   "execution_count": 4,
   "metadata": {},
   "outputs": [
    {
     "data": {
      "image/png": "[encoded data removed]",
      "text/plain": [
       "<Figure size 640x480 with 1 Axes>"
      ]
     },
     "metadata": {},
     "output_type": "display_data"
    }
   ],
   "source": [
    "import matplotlib.pyplot as plt\n",
    "\n",
    "# Assuming mask_tensor is the tensor you provided\n",
    "#mask_array = generated_mask.detach().numpy()  # Convert tensor to NumPy array\n",
    "predicted_array = (generated_mask > 0.5).float().detach().numpy()\n",
    "\n",
    "# Display the image using Matplotlib\n",
    "plt.imshow(predicted_array.squeeze(), cmap='gray')  # Use 'gray' colormap for binary images\n",
    "plt.axis('off')  # Turn off axis\n",
    "plt.show()"
   ]
  }
 ],
 "metadata": {
  "kernelspec": {
   "display_name": "myvenv",
   "language": "python",
   "name": "python3"
  },
  "language_info": {
   "codemirror_mode": {
    "name": "ipython",
    "version": 3
   },
   "file_extension": ".py",
   "mimetype": "text/x-python",
   "name": "python",
   "nbconvert_exporter": "python",
   "pygments_lexer": "ipython3",
   "version": "3.9.10"
  }
 },
 "nbformat": 4,
 "nbformat_minor": 2
}
